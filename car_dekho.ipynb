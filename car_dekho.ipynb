{
 "cells": [
  {
   "cell_type": "markdown",
   "metadata": {},
   "source": [
    "LOADING THE DATASET"
   ]
  },
  {
   "cell_type": "code",
   "execution_count": 81,
   "metadata": {},
   "outputs": [],
   "source": [
    "import pandas as pd\n",
    "import ast\n",
    "\n",
    "# Read all datasets\n",
    "df_bangalore = pd.read_excel(r\"C:\\Users\\vinoo\\Downloads\\bangalore_cars.xlsx\")\n",
    "df_delhi = pd.read_excel(r\"C:\\Users\\vinoo\\Downloads\\delhi_cars.xlsx\")\n",
    "df_kolkata = pd.read_excel(r\"C:\\Users\\vinoo\\Downloads\\kolkata_cars.xlsx\")\n",
    "df_hyderabad = pd.read_excel(r\"C:\\Users\\vinoo\\Downloads\\hyderabad_cars.xlsx\")\n",
    "df_jaipur = pd.read_excel(r\"C:\\Users\\vinoo\\Downloads\\jaipur_cars.xlsx\")\n",
    "df_chennai = pd.read_excel(r\"C:\\Users\\vinoo\\Downloads\\chennai_cars.xlsx\")\n"
   ]
  },
  {
   "cell_type": "code",
   "execution_count": 82,
   "metadata": {},
   "outputs": [],
   "source": [
    "# Add city column to all datasets\n",
    "df_bangalore.insert(0, \"city\", \"Bangalore\", True)\n",
    "df_delhi.insert(0, \"city\", \"Delhi\", True)\n",
    "df_kolkata.insert(0, \"city\", \"Kolkata\", True)\n",
    "df_hyderabad.insert(0, \"city\", \"Hyderabad\", True)\n",
    "df_jaipur.insert(0, \"city\", \"Jaipur\", True)\n",
    "df_chennai.insert(0, \"city\", \"Chennai\", True)\n"
   ]
  },
  {
   "cell_type": "code",
   "execution_count": 83,
   "metadata": {},
   "outputs": [],
   "source": [
    "# Concatenate all datasets\n",
    "combined_df = pd.concat([df_bangalore, df_delhi, df_kolkata, df_hyderabad, df_jaipur, df_chennai], ignore_index=True)"
   ]
  },
  {
   "cell_type": "code",
   "execution_count": 84,
   "metadata": {},
   "outputs": [],
   "source": [
    "# Rename columns\n",
    "car_dekho = combined_df.rename(columns={\n",
    "    'city': 'City',\n",
    "    'new_car_detail': 'Details',\n",
    "    'new_car_overview': 'Overview',\n",
    "    'new_car_feature': 'Feature',\n",
    "    'new_car_specs': 'Specs',\n",
    "    'car_links': 'Car Links'\n",
    "})"
   ]
  },
  {
   "cell_type": "markdown",
   "metadata": {},
   "source": [
    "PREPROCESSING THE DATA"
   ]
  },
  {
   "cell_type": "code",
   "execution_count": 85,
   "metadata": {},
   "outputs": [],
   "source": [
    "# Normalize the Details column\n",
    "car_dekho['Details'] = car_dekho['Details'].apply(ast.literal_eval)\n",
    "details_df = pd.json_normalize(car_dekho['Details'])\n",
    "car_dekho = car_dekho.join(details_df).drop('Details', axis=1)"
   ]
  },
  {
   "cell_type": "code",
   "execution_count": 86,
   "metadata": {},
   "outputs": [],
   "source": [
    "# Normalize the Overview column\n",
    "car_dekho['Overview'] = car_dekho['Overview'].apply(ast.literal_eval)\n",
    "overview_df = pd.json_normalize(car_dekho['Overview'])\n",
    "car_dekho = car_dekho.join(overview_df, rsuffix='_overview').drop('Overview', axis=1)\n"
   ]
  },
  {
   "cell_type": "code",
   "execution_count": 87,
   "metadata": {},
   "outputs": [],
   "source": [
    "# Flattening Overview: extracting data from 'top' and 'bottomData'\n",
    "for index in car_dekho.index:\n",
    "    if 'top' in car_dekho.columns and isinstance(car_dekho.at[index, 'top'], list):\n",
    "        for entry in car_dekho.at[index, 'top']:\n",
    "            if 'key' in entry and 'value' in entry:\n",
    "                car_dekho.at[index, entry['key']] = entry['value']\n",
    "\n",
    "    if 'bottomData' in car_dekho.columns and isinstance(car_dekho.at[index, 'bottomData'], list):\n",
    "        for entry in car_dekho.at[index, 'bottomData']:\n",
    "            car_dekho.at[index, entry['heading']] = entry['list']\n"
   ]
  },
  {
   "cell_type": "code",
   "execution_count": 88,
   "metadata": {},
   "outputs": [],
   "source": [
    "# Drop 'top' and 'bottomData' columns for Overview\n",
    "car_dekho = car_dekho.drop(columns=['top', 'bottomData'], errors='ignore')\n"
   ]
  },
  {
   "cell_type": "code",
   "execution_count": 89,
   "metadata": {},
   "outputs": [],
   "source": [
    "# Normalize the Feature column\n",
    "car_dekho['Feature'] = car_dekho['Feature'].apply(ast.literal_eval)\n",
    "feature_df = pd.json_normalize(car_dekho['Feature'])\n",
    "car_dekho = car_dekho.join(feature_df, rsuffix='_feature').drop('Feature', axis=1)"
   ]
  },
  {
   "cell_type": "code",
   "execution_count": 90,
   "metadata": {},
   "outputs": [],
   "source": [
    "# Flattening Feature: extracting data from 'top' and 'data'\n",
    "for index in car_dekho.index:\n",
    "    if 'top' in car_dekho.columns and isinstance(car_dekho.at[index, 'top'], list):\n",
    "        for entry in car_dekho.at[index, 'top']:\n",
    "            if isinstance(entry, str):\n",
    "                car_dekho.at[index, 'Feature_' + str(index)] = entry\n",
    "\n",
    "    if 'data' in car_dekho.columns and isinstance(car_dekho.at[index, 'data'], list):\n",
    "        for section in car_dekho.at[index, 'data']:\n",
    "            if 'heading' in section and 'list' in section:\n",
    "                for entry in section['list']:\n",
    "                    if 'key' in entry and 'value' in entry:\n",
    "                        car_dekho.at[index, entry['key']] = entry['value']"
   ]
  },
  {
   "cell_type": "code",
   "execution_count": 91,
   "metadata": {},
   "outputs": [],
   "source": [
    "# Drop 'top' and 'data' columns for Feature\n",
    "car_dekho = car_dekho.drop(columns=['top', 'data'], errors='ignore')\n"
   ]
  },
  {
   "cell_type": "code",
   "execution_count": 92,
   "metadata": {},
   "outputs": [],
   "source": [
    "# Normalize the Specs column\n",
    "car_dekho['Specs'] = car_dekho['Specs'].apply(ast.literal_eval)\n",
    "specs_df = pd.json_normalize(car_dekho['Specs'])\n",
    "car_dekho = car_dekho.join(specs_df, rsuffix='_specs').drop('Specs', axis=1)"
   ]
  },
  {
   "cell_type": "code",
   "execution_count": 93,
   "metadata": {},
   "outputs": [],
   "source": [
    "# Flattening Specs: extracting data from 'top' and 'data'\n",
    "for index in car_dekho.index:\n",
    "    if 'top' in car_dekho.columns and isinstance(car_dekho.at[index, 'top'], list):\n",
    "        for entry in car_dekho.at[index, 'top']:\n",
    "            if 'key' in entry and 'value' in entry:\n",
    "                car_dekho.at[index, entry['key']] = entry['value']\n",
    "\n",
    "    if 'data' in car_dekho.columns and isinstance(car_dekho.at[index, 'data'], list):\n",
    "        for section in car_dekho.at[index, 'data']:\n",
    "            if 'heading' in section and 'list' in section:\n",
    "                for entry in section['list']:\n",
    "                    if 'key' in entry and 'value' in entry:\n",
    "                        car_dekho.at[index, entry['key']] = entry['value']"
   ]
  },
  {
   "cell_type": "code",
   "execution_count": 94,
   "metadata": {},
   "outputs": [],
   "source": [
    "# Drop 'top' and 'data' columns for Specs\n",
    "car_dekho = car_dekho.drop(columns=['top', 'data'], errors='ignore')"
   ]
  },
  {
   "cell_type": "code",
   "execution_count": 95,
   "metadata": {},
   "outputs": [
    {
     "data": {
      "text/html": [
       "<div>\n",
       "<style scoped>\n",
       "    .dataframe tbody tr th:only-of-type {\n",
       "        vertical-align: middle;\n",
       "    }\n",
       "\n",
       "    .dataframe tbody tr th {\n",
       "        vertical-align: top;\n",
       "    }\n",
       "\n",
       "    .dataframe thead th {\n",
       "        text-align: right;\n",
       "    }\n",
       "</style>\n",
       "<table border=\"1\" class=\"dataframe\">\n",
       "  <thead>\n",
       "    <tr style=\"text-align: right;\">\n",
       "      <th></th>\n",
       "      <th>City</th>\n",
       "      <th>Car Links</th>\n",
       "      <th>it</th>\n",
       "      <th>ft</th>\n",
       "      <th>bt</th>\n",
       "      <th>km</th>\n",
       "      <th>transmission</th>\n",
       "      <th>ownerNo</th>\n",
       "      <th>owner</th>\n",
       "      <th>oem</th>\n",
       "      <th>...</th>\n",
       "      <th>Front Brake Type</th>\n",
       "      <th>Rear Brake Type</th>\n",
       "      <th>Top Speed</th>\n",
       "      <th>Acceleration</th>\n",
       "      <th>Tyre Type</th>\n",
       "      <th>No Door Numbers</th>\n",
       "      <th>Cargo Volumn</th>\n",
       "      <th>Wheel Size</th>\n",
       "      <th>Alloy Wheel Size</th>\n",
       "      <th>Ground Clearance Unladen</th>\n",
       "    </tr>\n",
       "  </thead>\n",
       "  <tbody>\n",
       "    <tr>\n",
       "      <th>0</th>\n",
       "      <td>Bangalore</td>\n",
       "      <td>https://www.cardekho.com/used-car-details/used...</td>\n",
       "      <td>0</td>\n",
       "      <td>Petrol</td>\n",
       "      <td>Hatchback</td>\n",
       "      <td>1,20,000</td>\n",
       "      <td>Manual</td>\n",
       "      <td>3</td>\n",
       "      <td>3rd Owner</td>\n",
       "      <td>Maruti</td>\n",
       "      <td>...</td>\n",
       "      <td>Ventilated Disc</td>\n",
       "      <td>Drum</td>\n",
       "      <td>150 Kmph</td>\n",
       "      <td>15.05 Seconds</td>\n",
       "      <td>Tubeless, Radial</td>\n",
       "      <td>5</td>\n",
       "      <td>235-litres</td>\n",
       "      <td>NaN</td>\n",
       "      <td>NaN</td>\n",
       "      <td>NaN</td>\n",
       "    </tr>\n",
       "  </tbody>\n",
       "</table>\n",
       "<p>1 rows × 75 columns</p>\n",
       "</div>"
      ],
      "text/plain": [
       "        City                                          Car Links  it      ft  \\\n",
       "0  Bangalore  https://www.cardekho.com/used-car-details/used...   0  Petrol   \n",
       "\n",
       "          bt        km transmission  ownerNo      owner     oem  ...  \\\n",
       "0  Hatchback  1,20,000       Manual        3  3rd Owner  Maruti  ...   \n",
       "\n",
       "  Front Brake Type  Rear Brake Type  Top Speed   Acceleration  \\\n",
       "0  Ventilated Disc             Drum   150 Kmph  15.05 Seconds   \n",
       "\n",
       "          Tyre Type No Door Numbers Cargo Volumn Wheel Size Alloy Wheel Size  \\\n",
       "0  Tubeless, Radial               5   235-litres        NaN              NaN   \n",
       "\n",
       "  Ground Clearance Unladen  \n",
       "0                      NaN  \n",
       "\n",
       "[1 rows x 75 columns]"
      ]
     },
     "execution_count": 95,
     "metadata": {},
     "output_type": "execute_result"
    }
   ],
   "source": [
    "# Display the final DataFrame\n",
    "car_dekho.head(1)"
   ]
  },
  {
   "cell_type": "code",
   "execution_count": 96,
   "metadata": {},
   "outputs": [],
   "source": [
    "car_dekho.to_excel(r\"C:\\Users\\vinoo\\Downloads\\structured_car_data.xlsx\", index=False)"
   ]
  },
  {
   "cell_type": "code",
   "execution_count": 97,
   "metadata": {},
   "outputs": [],
   "source": [
    "car_dekho = car_dekho[['City', 'bt', 'transmission', 'ownerNo' , 'oem' , 'model' ,'modelYear' , 'price' , 'Insurance Validity' , 'Fuel Type' , 'Seats' , 'Kms Driven' , 'Mileage']]"
   ]
  },
  {
   "cell_type": "code",
   "execution_count": 98,
   "metadata": {},
   "outputs": [
    {
     "data": {
      "text/html": [
       "<div>\n",
       "<style scoped>\n",
       "    .dataframe tbody tr th:only-of-type {\n",
       "        vertical-align: middle;\n",
       "    }\n",
       "\n",
       "    .dataframe tbody tr th {\n",
       "        vertical-align: top;\n",
       "    }\n",
       "\n",
       "    .dataframe thead th {\n",
       "        text-align: right;\n",
       "    }\n",
       "</style>\n",
       "<table border=\"1\" class=\"dataframe\">\n",
       "  <thead>\n",
       "    <tr style=\"text-align: right;\">\n",
       "      <th></th>\n",
       "      <th>City</th>\n",
       "      <th>bt</th>\n",
       "      <th>transmission</th>\n",
       "      <th>ownerNo</th>\n",
       "      <th>oem</th>\n",
       "      <th>model</th>\n",
       "      <th>modelYear</th>\n",
       "      <th>price</th>\n",
       "      <th>Insurance Validity</th>\n",
       "      <th>Fuel Type</th>\n",
       "      <th>Seats</th>\n",
       "      <th>Kms Driven</th>\n",
       "      <th>Mileage</th>\n",
       "    </tr>\n",
       "  </thead>\n",
       "  <tbody>\n",
       "    <tr>\n",
       "      <th>0</th>\n",
       "      <td>Bangalore</td>\n",
       "      <td>Hatchback</td>\n",
       "      <td>Manual</td>\n",
       "      <td>3</td>\n",
       "      <td>Maruti</td>\n",
       "      <td>Maruti Celerio</td>\n",
       "      <td>2015</td>\n",
       "      <td>₹ 4 Lakh</td>\n",
       "      <td>Third Party insurance</td>\n",
       "      <td>Petrol</td>\n",
       "      <td>5</td>\n",
       "      <td>1,20,000 Kms</td>\n",
       "      <td>23.1 kmpl</td>\n",
       "    </tr>\n",
       "    <tr>\n",
       "      <th>1</th>\n",
       "      <td>Bangalore</td>\n",
       "      <td>SUV</td>\n",
       "      <td>Manual</td>\n",
       "      <td>2</td>\n",
       "      <td>Ford</td>\n",
       "      <td>Ford Ecosport</td>\n",
       "      <td>2018</td>\n",
       "      <td>₹ 8.11 Lakh</td>\n",
       "      <td>Comprehensive</td>\n",
       "      <td>Petrol</td>\n",
       "      <td>5</td>\n",
       "      <td>32,706 Kms</td>\n",
       "      <td>17 kmpl</td>\n",
       "    </tr>\n",
       "    <tr>\n",
       "      <th>2</th>\n",
       "      <td>Bangalore</td>\n",
       "      <td>Hatchback</td>\n",
       "      <td>Manual</td>\n",
       "      <td>1</td>\n",
       "      <td>Tata</td>\n",
       "      <td>Tata Tiago</td>\n",
       "      <td>2018</td>\n",
       "      <td>₹ 5.85 Lakh</td>\n",
       "      <td>Comprehensive</td>\n",
       "      <td>Petrol</td>\n",
       "      <td>5</td>\n",
       "      <td>11,949 Kms</td>\n",
       "      <td>23.84 kmpl</td>\n",
       "    </tr>\n",
       "  </tbody>\n",
       "</table>\n",
       "</div>"
      ],
      "text/plain": [
       "        City         bt transmission  ownerNo     oem           model  \\\n",
       "0  Bangalore  Hatchback       Manual        3  Maruti  Maruti Celerio   \n",
       "1  Bangalore        SUV       Manual        2    Ford   Ford Ecosport   \n",
       "2  Bangalore  Hatchback       Manual        1    Tata      Tata Tiago   \n",
       "\n",
       "   modelYear        price     Insurance Validity Fuel Type Seats  \\\n",
       "0       2015     ₹ 4 Lakh  Third Party insurance    Petrol     5   \n",
       "1       2018  ₹ 8.11 Lakh          Comprehensive    Petrol     5   \n",
       "2       2018  ₹ 5.85 Lakh          Comprehensive    Petrol     5   \n",
       "\n",
       "     Kms Driven     Mileage  \n",
       "0  1,20,000 Kms   23.1 kmpl  \n",
       "1    32,706 Kms     17 kmpl  \n",
       "2    11,949 Kms  23.84 kmpl  "
      ]
     },
     "execution_count": 98,
     "metadata": {},
     "output_type": "execute_result"
    }
   ],
   "source": [
    "car_dekho.head(3)"
   ]
  },
  {
   "cell_type": "code",
   "execution_count": 99,
   "metadata": {},
   "outputs": [],
   "source": [
    "car_dekho.to_excel(r\"C:\\Users\\vinoo\\Downloads\\final_carData.xlsx\", index=False)"
   ]
  },
  {
   "cell_type": "code",
   "execution_count": 100,
   "metadata": {},
   "outputs": [
    {
     "data": {
      "text/plain": [
       "(8369, 13)"
      ]
     },
     "execution_count": 100,
     "metadata": {},
     "output_type": "execute_result"
    }
   ],
   "source": [
    "car_dekho.shape"
   ]
  },
  {
   "cell_type": "code",
   "execution_count": 101,
   "metadata": {},
   "outputs": [],
   "source": [
    "car_dekho.columns = car_dekho.columns.str.lower()"
   ]
  },
  {
   "cell_type": "code",
   "execution_count": 102,
   "metadata": {},
   "outputs": [],
   "source": [
    "car_dekho.rename(columns = {'bt':'body type'}, inplace = True)\n",
    "car_dekho.rename(columns = {'oem':'brand'}, inplace = True)"
   ]
  },
  {
   "cell_type": "code",
   "execution_count": 103,
   "metadata": {},
   "outputs": [
    {
     "data": {
      "text/plain": [
       "city                    0\n",
       "body type               0\n",
       "transmission            0\n",
       "ownerno                 0\n",
       "brand                   0\n",
       "model                   0\n",
       "modelyear               0\n",
       "price                   0\n",
       "insurance validity      4\n",
       "fuel type               0\n",
       "seats                   5\n",
       "kms driven              2\n",
       "mileage               287\n",
       "dtype: int64"
      ]
     },
     "execution_count": 103,
     "metadata": {},
     "output_type": "execute_result"
    }
   ],
   "source": [
    "car_dekho.isnull().sum()"
   ]
  },
  {
   "cell_type": "code",
   "execution_count": 104,
   "metadata": {},
   "outputs": [
    {
     "data": {
      "text/plain": [
       "city                  object\n",
       "body type             object\n",
       "transmission          object\n",
       "ownerno                int64\n",
       "brand                 object\n",
       "model                 object\n",
       "modelyear              int64\n",
       "price                 object\n",
       "insurance validity    object\n",
       "fuel type             object\n",
       "seats                 object\n",
       "kms driven            object\n",
       "mileage               object\n",
       "dtype: object"
      ]
     },
     "execution_count": 104,
     "metadata": {},
     "output_type": "execute_result"
    }
   ],
   "source": [
    "car_dekho.dtypes"
   ]
  },
  {
   "cell_type": "code",
   "execution_count": 105,
   "metadata": {},
   "outputs": [
    {
     "name": "stderr",
     "output_type": "stream",
     "text": [
      "C:\\Users\\vinoo\\AppData\\Local\\Temp\\ipykernel_226600\\1407332355.py:1: FutureWarning: A value is trying to be set on a copy of a DataFrame or Series through chained assignment using an inplace method.\n",
      "The behavior will change in pandas 3.0. This inplace method will never work because the intermediate object on which we are setting values always behaves as a copy.\n",
      "\n",
      "For example, when doing 'df[col].method(value, inplace=True)', try using 'df.method({col: value}, inplace=True)' or df[col] = df[col].method(value) instead, to perform the operation inplace on the original object.\n",
      "\n",
      "\n",
      "  car_dekho['insurance validity'].fillna(car_dekho['insurance validity'].mode()[0], inplace=True )\n"
     ]
    }
   ],
   "source": [
    "car_dekho['insurance validity'].fillna(car_dekho['insurance validity'].mode()[0], inplace=True )"
   ]
  },
  {
   "cell_type": "code",
   "execution_count": 106,
   "metadata": {},
   "outputs": [],
   "source": [
    "car_dekho['price']= car_dekho['price'].str.extract(r'(\\d+\\.?\\d*)').astype(float)\n",
    "# car_dekho['price']= car_dekho['price'].str.replace(r'[^0-9.]', '', regex= True)\n",
    "car_dekho['price']= pd.to_numeric(car_dekho['price'], errors= 'coerce')\n"
   ]
  },
  {
   "cell_type": "code",
   "execution_count": 107,
   "metadata": {},
   "outputs": [
    {
     "name": "stderr",
     "output_type": "stream",
     "text": [
      "C:\\Users\\vinoo\\AppData\\Local\\Temp\\ipykernel_226600\\2618608655.py:2: FutureWarning: A value is trying to be set on a copy of a DataFrame or Series through chained assignment using an inplace method.\n",
      "The behavior will change in pandas 3.0. This inplace method will never work because the intermediate object on which we are setting values always behaves as a copy.\n",
      "\n",
      "For example, when doing 'df[col].method(value, inplace=True)', try using 'df.method({col: value}, inplace=True)' or df[col] = df[col].method(value) instead, to perform the operation inplace on the original object.\n",
      "\n",
      "\n",
      "  car_dekho['seats'].fillna(car_dekho['seats'].median(), inplace= True)\n"
     ]
    }
   ],
   "source": [
    "car_dekho['seats'] = pd.to_numeric(car_dekho['seats'], errors='coerce')\n",
    "car_dekho['seats'].fillna(car_dekho['seats'].median(), inplace= True)\n",
    "car_dekho['seats'] = car_dekho['seats'].astype(int)"
   ]
  },
  {
   "cell_type": "code",
   "execution_count": 108,
   "metadata": {},
   "outputs": [
    {
     "name": "stderr",
     "output_type": "stream",
     "text": [
      "C:\\Users\\vinoo\\AppData\\Local\\Temp\\ipykernel_226600\\3622564744.py:3: FutureWarning: A value is trying to be set on a copy of a DataFrame or Series through chained assignment using an inplace method.\n",
      "The behavior will change in pandas 3.0. This inplace method will never work because the intermediate object on which we are setting values always behaves as a copy.\n",
      "\n",
      "For example, when doing 'df[col].method(value, inplace=True)', try using 'df.method({col: value}, inplace=True)' or df[col] = df[col].method(value) instead, to perform the operation inplace on the original object.\n",
      "\n",
      "\n",
      "  car_dekho['kms driven'].fillna(car_dekho['kms driven'].median(), inplace = True)\n"
     ]
    }
   ],
   "source": [
    "car_dekho['kms driven'] = car_dekho['kms driven'].str.replace(r'[^\\d.]', '', regex=True).astype(float)\n",
    "car_dekho['kms driven']= pd.to_numeric(car_dekho['kms driven'], errors= 'coerce')\n",
    "car_dekho['kms driven'].fillna(car_dekho['kms driven'].median(), inplace = True)"
   ]
  },
  {
   "cell_type": "code",
   "execution_count": 109,
   "metadata": {},
   "outputs": [
    {
     "name": "stderr",
     "output_type": "stream",
     "text": [
      "C:\\Users\\vinoo\\AppData\\Local\\Temp\\ipykernel_226600\\544250222.py:4: FutureWarning: A value is trying to be set on a copy of a DataFrame or Series through chained assignment using an inplace method.\n",
      "The behavior will change in pandas 3.0. This inplace method will never work because the intermediate object on which we are setting values always behaves as a copy.\n",
      "\n",
      "For example, when doing 'df[col].method(value, inplace=True)', try using 'df.method({col: value}, inplace=True)' or df[col] = df[col].method(value) instead, to perform the operation inplace on the original object.\n",
      "\n",
      "\n",
      "  car_dekho['mileage'].fillna(car_dekho['mileage'].median(), inplace=True)\n"
     ]
    }
   ],
   "source": [
    "car_dekho['mileage'] = car_dekho['mileage'].str.replace('kmpl', '').str.replace('km/kg', '').str.strip().astype(float)\n",
    "# car_dekho['mileage'] = car_dekho['mileage'].str.replace(r'[^\\d.]', '', regex=True).astype(float)\n",
    "car_dekho['mileage'] = pd.to_numeric(car_dekho['mileage'], errors='coerce')\n",
    "car_dekho['mileage'].fillna(car_dekho['mileage'].median(), inplace=True)"
   ]
  },
  {
   "cell_type": "code",
   "execution_count": 110,
   "metadata": {},
   "outputs": [
    {
     "data": {
      "text/html": [
       "<div>\n",
       "<style scoped>\n",
       "    .dataframe tbody tr th:only-of-type {\n",
       "        vertical-align: middle;\n",
       "    }\n",
       "\n",
       "    .dataframe tbody tr th {\n",
       "        vertical-align: top;\n",
       "    }\n",
       "\n",
       "    .dataframe thead th {\n",
       "        text-align: right;\n",
       "    }\n",
       "</style>\n",
       "<table border=\"1\" class=\"dataframe\">\n",
       "  <thead>\n",
       "    <tr style=\"text-align: right;\">\n",
       "      <th></th>\n",
       "      <th>city</th>\n",
       "      <th>body type</th>\n",
       "      <th>transmission</th>\n",
       "      <th>ownerno</th>\n",
       "      <th>brand</th>\n",
       "      <th>model</th>\n",
       "      <th>modelyear</th>\n",
       "      <th>price</th>\n",
       "      <th>insurance validity</th>\n",
       "      <th>fuel type</th>\n",
       "      <th>seats</th>\n",
       "      <th>kms driven</th>\n",
       "      <th>mileage</th>\n",
       "    </tr>\n",
       "  </thead>\n",
       "  <tbody>\n",
       "    <tr>\n",
       "      <th>0</th>\n",
       "      <td>Bangalore</td>\n",
       "      <td>Hatchback</td>\n",
       "      <td>Manual</td>\n",
       "      <td>3</td>\n",
       "      <td>Maruti</td>\n",
       "      <td>Maruti Celerio</td>\n",
       "      <td>2015</td>\n",
       "      <td>4.00</td>\n",
       "      <td>Third Party insurance</td>\n",
       "      <td>Petrol</td>\n",
       "      <td>5</td>\n",
       "      <td>120000.0</td>\n",
       "      <td>23.10</td>\n",
       "    </tr>\n",
       "    <tr>\n",
       "      <th>1</th>\n",
       "      <td>Bangalore</td>\n",
       "      <td>SUV</td>\n",
       "      <td>Manual</td>\n",
       "      <td>2</td>\n",
       "      <td>Ford</td>\n",
       "      <td>Ford Ecosport</td>\n",
       "      <td>2018</td>\n",
       "      <td>8.11</td>\n",
       "      <td>Comprehensive</td>\n",
       "      <td>Petrol</td>\n",
       "      <td>5</td>\n",
       "      <td>32706.0</td>\n",
       "      <td>17.00</td>\n",
       "    </tr>\n",
       "    <tr>\n",
       "      <th>2</th>\n",
       "      <td>Bangalore</td>\n",
       "      <td>Hatchback</td>\n",
       "      <td>Manual</td>\n",
       "      <td>1</td>\n",
       "      <td>Tata</td>\n",
       "      <td>Tata Tiago</td>\n",
       "      <td>2018</td>\n",
       "      <td>5.85</td>\n",
       "      <td>Comprehensive</td>\n",
       "      <td>Petrol</td>\n",
       "      <td>5</td>\n",
       "      <td>11949.0</td>\n",
       "      <td>23.84</td>\n",
       "    </tr>\n",
       "  </tbody>\n",
       "</table>\n",
       "</div>"
      ],
      "text/plain": [
       "        city  body type transmission  ownerno   brand           model  \\\n",
       "0  Bangalore  Hatchback       Manual        3  Maruti  Maruti Celerio   \n",
       "1  Bangalore        SUV       Manual        2    Ford   Ford Ecosport   \n",
       "2  Bangalore  Hatchback       Manual        1    Tata      Tata Tiago   \n",
       "\n",
       "   modelyear  price     insurance validity fuel type  seats  kms driven  \\\n",
       "0       2015   4.00  Third Party insurance    Petrol      5    120000.0   \n",
       "1       2018   8.11          Comprehensive    Petrol      5     32706.0   \n",
       "2       2018   5.85          Comprehensive    Petrol      5     11949.0   \n",
       "\n",
       "   mileage  \n",
       "0    23.10  \n",
       "1    17.00  \n",
       "2    23.84  "
      ]
     },
     "execution_count": 110,
     "metadata": {},
     "output_type": "execute_result"
    }
   ],
   "source": [
    "car_dekho.head(3)"
   ]
  },
  {
   "cell_type": "code",
   "execution_count": 111,
   "metadata": {},
   "outputs": [],
   "source": [
    "# car_dekho['price']= car_dekho['price']*100000\n",
    "# car_dekho"
   ]
  },
  {
   "cell_type": "code",
   "execution_count": 112,
   "metadata": {},
   "outputs": [],
   "source": [
    "car_dekho.columns = car_dekho.columns.str.replace(' ','_')"
   ]
  },
  {
   "cell_type": "code",
   "execution_count": 113,
   "metadata": {},
   "outputs": [
    {
     "data": {
      "text/plain": [
       "city                  0\n",
       "body_type             0\n",
       "transmission          0\n",
       "ownerno               0\n",
       "brand                 0\n",
       "model                 0\n",
       "modelyear             0\n",
       "price                 0\n",
       "insurance_validity    0\n",
       "fuel_type             0\n",
       "seats                 0\n",
       "kms_driven            0\n",
       "mileage               0\n",
       "dtype: int64"
      ]
     },
     "execution_count": 113,
     "metadata": {},
     "output_type": "execute_result"
    }
   ],
   "source": [
    "car_dekho.isnull().sum()"
   ]
  },
  {
   "cell_type": "code",
   "execution_count": 114,
   "metadata": {},
   "outputs": [
    {
     "data": {
      "text/html": [
       "<div>\n",
       "<style scoped>\n",
       "    .dataframe tbody tr th:only-of-type {\n",
       "        vertical-align: middle;\n",
       "    }\n",
       "\n",
       "    .dataframe tbody tr th {\n",
       "        vertical-align: top;\n",
       "    }\n",
       "\n",
       "    .dataframe thead th {\n",
       "        text-align: right;\n",
       "    }\n",
       "</style>\n",
       "<table border=\"1\" class=\"dataframe\">\n",
       "  <thead>\n",
       "    <tr style=\"text-align: right;\">\n",
       "      <th></th>\n",
       "      <th>ownerno</th>\n",
       "      <th>modelyear</th>\n",
       "      <th>price</th>\n",
       "      <th>seats</th>\n",
       "      <th>kms_driven</th>\n",
       "      <th>mileage</th>\n",
       "    </tr>\n",
       "  </thead>\n",
       "  <tbody>\n",
       "    <tr>\n",
       "      <th>count</th>\n",
       "      <td>8369.000000</td>\n",
       "      <td>8369.000000</td>\n",
       "      <td>8369.000000</td>\n",
       "      <td>8369.000000</td>\n",
       "      <td>8.369000e+03</td>\n",
       "      <td>8369.00000</td>\n",
       "    </tr>\n",
       "    <tr>\n",
       "      <th>mean</th>\n",
       "      <td>1.360139</td>\n",
       "      <td>2016.503286</td>\n",
       "      <td>10.017363</td>\n",
       "      <td>5.203131</td>\n",
       "      <td>5.898714e+04</td>\n",
       "      <td>19.24365</td>\n",
       "    </tr>\n",
       "    <tr>\n",
       "      <th>std</th>\n",
       "      <td>0.641958</td>\n",
       "      <td>3.921465</td>\n",
       "      <td>12.621907</td>\n",
       "      <td>0.663573</td>\n",
       "      <td>7.405543e+04</td>\n",
       "      <td>3.96145</td>\n",
       "    </tr>\n",
       "    <tr>\n",
       "      <th>min</th>\n",
       "      <td>0.000000</td>\n",
       "      <td>1985.000000</td>\n",
       "      <td>1.000000</td>\n",
       "      <td>2.000000</td>\n",
       "      <td>1.010000e+02</td>\n",
       "      <td>7.08000</td>\n",
       "    </tr>\n",
       "    <tr>\n",
       "      <th>25%</th>\n",
       "      <td>1.000000</td>\n",
       "      <td>2014.000000</td>\n",
       "      <td>4.000000</td>\n",
       "      <td>5.000000</td>\n",
       "      <td>3.000000e+04</td>\n",
       "      <td>17.01000</td>\n",
       "    </tr>\n",
       "    <tr>\n",
       "      <th>50%</th>\n",
       "      <td>1.000000</td>\n",
       "      <td>2017.000000</td>\n",
       "      <td>6.190000</td>\n",
       "      <td>5.000000</td>\n",
       "      <td>5.370000e+04</td>\n",
       "      <td>18.90000</td>\n",
       "    </tr>\n",
       "    <tr>\n",
       "      <th>75%</th>\n",
       "      <td>2.000000</td>\n",
       "      <td>2019.000000</td>\n",
       "      <td>9.750000</td>\n",
       "      <td>5.000000</td>\n",
       "      <td>8.000000e+04</td>\n",
       "      <td>21.40000</td>\n",
       "    </tr>\n",
       "    <tr>\n",
       "      <th>max</th>\n",
       "      <td>5.000000</td>\n",
       "      <td>2023.000000</td>\n",
       "      <td>99.000000</td>\n",
       "      <td>10.000000</td>\n",
       "      <td>5.500000e+06</td>\n",
       "      <td>140.00000</td>\n",
       "    </tr>\n",
       "  </tbody>\n",
       "</table>\n",
       "</div>"
      ],
      "text/plain": [
       "           ownerno    modelyear        price        seats    kms_driven  \\\n",
       "count  8369.000000  8369.000000  8369.000000  8369.000000  8.369000e+03   \n",
       "mean      1.360139  2016.503286    10.017363     5.203131  5.898714e+04   \n",
       "std       0.641958     3.921465    12.621907     0.663573  7.405543e+04   \n",
       "min       0.000000  1985.000000     1.000000     2.000000  1.010000e+02   \n",
       "25%       1.000000  2014.000000     4.000000     5.000000  3.000000e+04   \n",
       "50%       1.000000  2017.000000     6.190000     5.000000  5.370000e+04   \n",
       "75%       2.000000  2019.000000     9.750000     5.000000  8.000000e+04   \n",
       "max       5.000000  2023.000000    99.000000    10.000000  5.500000e+06   \n",
       "\n",
       "          mileage  \n",
       "count  8369.00000  \n",
       "mean     19.24365  \n",
       "std       3.96145  \n",
       "min       7.08000  \n",
       "25%      17.01000  \n",
       "50%      18.90000  \n",
       "75%      21.40000  \n",
       "max     140.00000  "
      ]
     },
     "execution_count": 114,
     "metadata": {},
     "output_type": "execute_result"
    }
   ],
   "source": [
    "car_dekho.describe()"
   ]
  },
  {
   "cell_type": "code",
   "execution_count": 115,
   "metadata": {},
   "outputs": [
    {
     "name": "stdout",
     "output_type": "stream",
     "text": [
      "transmission\n",
      "Manual       6052\n",
      "Automatic    2317\n",
      "Name: count, dtype: int64\n",
      "insurance_validity\n",
      "Third Party insurance    4059\n",
      "Comprehensive            3150\n",
      "Third Party               630\n",
      "Zero Dep                  303\n",
      "Not Available             223\n",
      "1                           3\n",
      "2                           1\n",
      "Name: count, dtype: int64\n",
      "fuel_type\n",
      "Petrol      5554\n",
      "Diesel      2673\n",
      "CNG           98\n",
      "Electric      28\n",
      "LPG           16\n",
      "Name: count, dtype: int64\n"
     ]
    }
   ],
   "source": [
    "print(car_dekho.transmission.value_counts())\n",
    "print(car_dekho.insurance_validity.value_counts())\n",
    "print(car_dekho.fuel_type.value_counts())"
   ]
  },
  {
   "cell_type": "code",
   "execution_count": 116,
   "metadata": {},
   "outputs": [],
   "source": [
    "car_dekho.to_csv(r\"C:\\Users\\vinoo\\OneDrive\\文档\\shared files\\capstone_project3\\new_cleaned_data.csv\", index=False)"
   ]
  },
  {
   "cell_type": "code",
   "execution_count": null,
   "metadata": {},
   "outputs": [],
   "source": []
  }
 ],
 "metadata": {
  "kernelspec": {
   "display_name": "StatsM",
   "language": "python",
   "name": "python3"
  },
  "language_info": {
   "codemirror_mode": {
    "name": "ipython",
    "version": 3
   },
   "file_extension": ".py",
   "mimetype": "text/x-python",
   "name": "python",
   "nbconvert_exporter": "python",
   "pygments_lexer": "ipython3",
   "version": "3.11.9"
  }
 },
 "nbformat": 4,
 "nbformat_minor": 2
}
